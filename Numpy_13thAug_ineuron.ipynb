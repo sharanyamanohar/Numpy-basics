{
 "cells": [
  {
   "cell_type": "code",
   "execution_count": 1,
   "id": "36459d07",
   "metadata": {},
   "outputs": [],
   "source": [
    "import numpy as np"
   ]
  },
  {
   "cell_type": "code",
   "execution_count": 12,
   "id": "09778bde",
   "metadata": {},
   "outputs": [
    {
     "data": {
      "text/plain": [
       "array([1, 2, 3, 4])"
      ]
     },
     "execution_count": 12,
     "metadata": {},
     "output_type": "execute_result"
    }
   ],
   "source": [
    "l=[1,2,3,4]#1d\n",
    "a1=np.array(l)\n",
    "a1"
   ]
  },
  {
   "cell_type": "code",
   "execution_count": 8,
   "id": "52909c5d",
   "metadata": {},
   "outputs": [],
   "source": [
    "l1=[4,5,6,\"sara\",\"ineuron\",True]"
   ]
  },
  {
   "cell_type": "code",
   "execution_count": 9,
   "id": "d34cabe4",
   "metadata": {},
   "outputs": [
    {
     "data": {
      "text/plain": [
       "array(['4', '5', '6', 'sara', 'ineuron', 'True'], dtype='<U11')"
      ]
     },
     "execution_count": 9,
     "metadata": {},
     "output_type": "execute_result"
    }
   ],
   "source": [
    "np.array(l1)"
   ]
  },
  {
   "cell_type": "code",
   "execution_count": 13,
   "id": "880d2d5b",
   "metadata": {},
   "outputs": [
    {
     "data": {
      "text/plain": [
       "array([[1, 2, 3],\n",
       "       [4, 5, 6]])"
      ]
     },
     "execution_count": 13,
     "metadata": {},
     "output_type": "execute_result"
    }
   ],
   "source": [
    "a2=np.array([[1,2,3],[4,5,6]])#2d\n",
    "a2"
   ]
  },
  {
   "cell_type": "code",
   "execution_count": 14,
   "id": "7401c1c7",
   "metadata": {},
   "outputs": [
    {
     "data": {
      "text/plain": [
       "array([[[1, 2, 3],\n",
       "        [4, 5, 6],\n",
       "        [7, 8, 9]]])"
      ]
     },
     "execution_count": 14,
     "metadata": {},
     "output_type": "execute_result"
    }
   ],
   "source": [
    "a3=np.array([[[1,2,3],[4,5,6],[7,8,9]]])#3d\n",
    "a3"
   ]
  },
  {
   "cell_type": "code",
   "execution_count": 15,
   "id": "9cc0dd7a",
   "metadata": {},
   "outputs": [
    {
     "data": {
      "text/plain": [
       "1"
      ]
     },
     "execution_count": 15,
     "metadata": {},
     "output_type": "execute_result"
    }
   ],
   "source": [
    "a1.ndim"
   ]
  },
  {
   "cell_type": "code",
   "execution_count": 16,
   "id": "45ed94cb",
   "metadata": {},
   "outputs": [
    {
     "data": {
      "text/plain": [
       "2"
      ]
     },
     "execution_count": 16,
     "metadata": {},
     "output_type": "execute_result"
    }
   ],
   "source": [
    "a2.ndim"
   ]
  },
  {
   "cell_type": "code",
   "execution_count": 17,
   "id": "92d19f5a",
   "metadata": {},
   "outputs": [
    {
     "data": {
      "text/plain": [
       "3"
      ]
     },
     "execution_count": 17,
     "metadata": {},
     "output_type": "execute_result"
    }
   ],
   "source": [
    "a3.ndim"
   ]
  },
  {
   "cell_type": "code",
   "execution_count": 18,
   "id": "e1022f60",
   "metadata": {},
   "outputs": [
    {
     "data": {
      "text/plain": [
       "(4,)"
      ]
     },
     "execution_count": 18,
     "metadata": {},
     "output_type": "execute_result"
    }
   ],
   "source": [
    "a1.shape"
   ]
  },
  {
   "cell_type": "code",
   "execution_count": 19,
   "id": "aecdcd6f",
   "metadata": {},
   "outputs": [
    {
     "data": {
      "text/plain": [
       "4"
      ]
     },
     "execution_count": 19,
     "metadata": {},
     "output_type": "execute_result"
    }
   ],
   "source": [
    "a1.size"
   ]
  },
  {
   "cell_type": "code",
   "execution_count": 22,
   "id": "9d0f5596",
   "metadata": {},
   "outputs": [
    {
     "data": {
      "text/plain": [
       "array([[[45, 35, 36, 35],\n",
       "        [38, 39, 13, 38],\n",
       "        [30, 34,  4, 34]],\n",
       "\n",
       "       [[20, 10, 19, 25],\n",
       "        [ 8, 46,  9, 16],\n",
       "        [13, 40, 28, 18]]])"
      ]
     },
     "execution_count": 22,
     "metadata": {},
     "output_type": "execute_result"
    }
   ],
   "source": [
    "np.random.randint(2,50,(2,3,4))"
   ]
  },
  {
   "cell_type": "code",
   "execution_count": 23,
   "id": "2f482a4b",
   "metadata": {},
   "outputs": [
    {
     "data": {
      "text/plain": [
       "array([[22,  4, 10, 32],\n",
       "       [15, 39, 42, 49],\n",
       "       [39,  6, 13,  8]])"
      ]
     },
     "execution_count": 23,
     "metadata": {},
     "output_type": "execute_result"
    }
   ],
   "source": [
    "np.random.randint(2,50,(3,4))"
   ]
  },
  {
   "cell_type": "code",
   "execution_count": 24,
   "id": "37511964",
   "metadata": {},
   "outputs": [
    {
     "data": {
      "text/plain": [
       "array([[0.62605357, 0.88942512, 0.7877605 , 0.64907428],\n",
       "       [0.90838515, 0.67239987, 0.94121919, 0.51772943],\n",
       "       [0.31443325, 0.34586785, 0.42193311, 0.51760967],\n",
       "       [0.5563741 , 0.31593401, 0.26232285, 0.01410444]])"
      ]
     },
     "execution_count": 24,
     "metadata": {},
     "output_type": "execute_result"
    }
   ],
   "source": [
    "np.random.rand(4,4)"
   ]
  },
  {
   "cell_type": "code",
   "execution_count": 28,
   "id": "75d45bcc",
   "metadata": {},
   "outputs": [
    {
     "data": {
      "text/plain": [
       "array([[-0.51454598, -1.70985138, -0.15832583,  0.54223315],\n",
       "       [ 0.38637071,  1.11708878, -0.40316919, -0.2929704 ],\n",
       "       [-0.99493103,  0.16802643, -0.05640591, -1.18465093],\n",
       "       [-0.43321355,  0.42989136,  0.22175199,  0.46577128]])"
      ]
     },
     "execution_count": 28,
     "metadata": {},
     "output_type": "execute_result"
    }
   ],
   "source": [
    "np.random.randn(4,4)"
   ]
  },
  {
   "cell_type": "code",
   "execution_count": 31,
   "id": "deb0b68e",
   "metadata": {},
   "outputs": [
    {
     "data": {
      "text/plain": [
       "array([[[0.45218753, 0.80709303, 0.16121927, 0.78773663],\n",
       "        [0.98867093, 0.2062702 , 0.78712763, 0.07230669],\n",
       "        [0.36904318, 0.7401524 , 0.18043773, 0.77252072]],\n",
       "\n",
       "       [[0.96274539, 0.16546264, 0.48467979, 0.42509118],\n",
       "        [0.94879108, 0.36118962, 0.84995902, 0.84204231],\n",
       "        [0.29292029, 0.97340391, 0.85572366, 0.32099708]]])"
      ]
     },
     "execution_count": 31,
     "metadata": {},
     "output_type": "execute_result"
    }
   ],
   "source": [
    "np.random.rand(2,3,4)"
   ]
  },
  {
   "cell_type": "code",
   "execution_count": 36,
   "id": "40e69ed3",
   "metadata": {},
   "outputs": [
    {
     "data": {
      "text/plain": [
       "array([[1],\n",
       "       [2],\n",
       "       [3],\n",
       "       [4]])"
      ]
     },
     "execution_count": 36,
     "metadata": {},
     "output_type": "execute_result"
    }
   ],
   "source": [
    "a1.reshape(4,1)"
   ]
  },
  {
   "cell_type": "code",
   "execution_count": 37,
   "id": "431083ce",
   "metadata": {},
   "outputs": [
    {
     "data": {
      "text/plain": [
       "array([[1, 2, 3],\n",
       "       [4, 5, 6]])"
      ]
     },
     "execution_count": 37,
     "metadata": {},
     "output_type": "execute_result"
    }
   ],
   "source": [
    "a2"
   ]
  },
  {
   "cell_type": "code",
   "execution_count": 39,
   "id": "4fdcc685",
   "metadata": {},
   "outputs": [
    {
     "data": {
      "text/plain": [
       "array([[2, 3],\n",
       "       [5, 6]])"
      ]
     },
     "execution_count": 39,
     "metadata": {},
     "output_type": "execute_result"
    }
   ],
   "source": [
    "a2[:,[1,2]]"
   ]
  },
  {
   "cell_type": "code",
   "execution_count": 40,
   "id": "95e8f05d",
   "metadata": {},
   "outputs": [
    {
     "data": {
      "text/plain": [
       "array([[2, 3],\n",
       "       [5, 6]])"
      ]
     },
     "execution_count": 40,
     "metadata": {},
     "output_type": "execute_result"
    }
   ],
   "source": [
    "a2[[0,1],1:]"
   ]
  },
  {
   "cell_type": "code",
   "execution_count": 41,
   "id": "1d62714a",
   "metadata": {},
   "outputs": [
    {
     "data": {
      "text/plain": [
       "array([2, 6])"
      ]
     },
     "execution_count": 41,
     "metadata": {},
     "output_type": "execute_result"
    }
   ],
   "source": [
    "a2[[0,1],[1,2]]"
   ]
  },
  {
   "cell_type": "code",
   "execution_count": 43,
   "id": "46278a87",
   "metadata": {},
   "outputs": [
    {
     "data": {
      "text/plain": [
       "array([[39, 63, 64, 43, 23],\n",
       "       [29, 42, 55, 69, 64],\n",
       "       [ 3, 32, 74, 20, 42],\n",
       "       [36, 37, 15, 52,  3],\n",
       "       [36, 56, 12, 59, 63],\n",
       "       [23, 75, 28, 18, 84]])"
      ]
     },
     "execution_count": 43,
     "metadata": {},
     "output_type": "execute_result"
    }
   ],
   "source": [
    "a4=np.random.randint(2,90,(6,5))\n",
    "a4"
   ]
  },
  {
   "cell_type": "code",
   "execution_count": 46,
   "id": "205259dd",
   "metadata": {},
   "outputs": [
    {
     "data": {
      "text/plain": [
       "array([63, 64, 43, 42, 55, 69, 64, 74, 42, 52, 56, 59, 63, 75, 84])"
      ]
     },
     "execution_count": 46,
     "metadata": {},
     "output_type": "execute_result"
    }
   ],
   "source": [
    "a4[a4>40]#condition filter"
   ]
  },
  {
   "cell_type": "code",
   "execution_count": 50,
   "id": "97e3961a",
   "metadata": {},
   "outputs": [
    {
     "data": {
      "text/plain": [
       "array([[39,  9, 64, 43, 23],\n",
       "       [29, 42, 55, 69, 64],\n",
       "       [ 3, 32, 74, 20, 42],\n",
       "       [36, 37, 15, 52,  3],\n",
       "       [36, 56, 12, 59, 63],\n",
       "       [23, 75, 28, 18, 84]])"
      ]
     },
     "execution_count": 50,
     "metadata": {},
     "output_type": "execute_result"
    }
   ],
   "source": [
    "a4[0,1]=9#reassignment with numpy\n",
    "a4"
   ]
  },
  {
   "cell_type": "code",
   "execution_count": 53,
   "id": "2486efc0",
   "metadata": {},
   "outputs": [
    {
     "data": {
      "text/plain": [
       "array([[2, 1],\n",
       "       [1, 0],\n",
       "       [0, 4]])"
      ]
     },
     "execution_count": 53,
     "metadata": {},
     "output_type": "execute_result"
    }
   ],
   "source": [
    "a5=np.random.randint(0,3,(3,2))\n",
    "a6=np.random.randint(0,3,(3,2))\n",
    "a5*a6"
   ]
  },
  {
   "cell_type": "markdown",
   "id": "174856bd",
   "metadata": {},
   "source": [
    "http://matrixmultiplication.xyz/\n",
    "    for visualization"
   ]
  },
  {
   "cell_type": "code",
   "execution_count": 54,
   "id": "04f71a9d",
   "metadata": {},
   "outputs": [
    {
     "name": "stderr",
     "output_type": "stream",
     "text": [
      "C:\\Users\\Sharanya\\AppData\\Local\\Temp\\ipykernel_9480\\538482321.py:1: RuntimeWarning: divide by zero encountered in true_divide\n",
      "  a5/0\n",
      "C:\\Users\\Sharanya\\AppData\\Local\\Temp\\ipykernel_9480\\538482321.py:1: RuntimeWarning: invalid value encountered in true_divide\n",
      "  a5/0\n"
     ]
    },
    {
     "data": {
      "text/plain": [
       "array([[inf, inf],\n",
       "       [inf, nan],\n",
       "       [nan, inf]])"
      ]
     },
     "execution_count": 54,
     "metadata": {},
     "output_type": "execute_result"
    }
   ],
   "source": [
    "a5/0#inf means infinty"
   ]
  },
  {
   "cell_type": "code",
   "execution_count": 55,
   "id": "bb2de73d",
   "metadata": {},
   "outputs": [
    {
     "data": {
      "text/plain": [
       "array([[0., 0., 0., 0.],\n",
       "       [0., 0., 0., 0.],\n",
       "       [0., 0., 0., 0.],\n",
       "       [0., 0., 0., 0.]])"
      ]
     },
     "execution_count": 55,
     "metadata": {},
     "output_type": "execute_result"
    }
   ],
   "source": [
    "np.zeros((4,4))"
   ]
  },
  {
   "cell_type": "code",
   "execution_count": 56,
   "id": "feb5166f",
   "metadata": {},
   "outputs": [
    {
     "data": {
      "text/plain": [
       "array([[1., 1., 1., 1., 1., 1., 1.],\n",
       "       [1., 1., 1., 1., 1., 1., 1.],\n",
       "       [1., 1., 1., 1., 1., 1., 1.],\n",
       "       [1., 1., 1., 1., 1., 1., 1.],\n",
       "       [1., 1., 1., 1., 1., 1., 1.],\n",
       "       [1., 1., 1., 1., 1., 1., 1.],\n",
       "       [1., 1., 1., 1., 1., 1., 1.],\n",
       "       [1., 1., 1., 1., 1., 1., 1.],\n",
       "       [1., 1., 1., 1., 1., 1., 1.],\n",
       "       [1., 1., 1., 1., 1., 1., 1.],\n",
       "       [1., 1., 1., 1., 1., 1., 1.],\n",
       "       [1., 1., 1., 1., 1., 1., 1.]])"
      ]
     },
     "execution_count": 56,
     "metadata": {},
     "output_type": "execute_result"
    }
   ],
   "source": [
    "np.ones((12,7))"
   ]
  },
  {
   "cell_type": "code",
   "execution_count": 61,
   "id": "2135b9e5",
   "metadata": {},
   "outputs": [
    {
     "data": {
      "text/plain": [
       "array([[1],\n",
       "       [2],\n",
       "       [3],\n",
       "       [4]])"
      ]
     },
     "execution_count": 61,
     "metadata": {},
     "output_type": "execute_result"
    }
   ],
   "source": [
    "np.array([[1,2,3,4]]).T"
   ]
  },
  {
   "cell_type": "code",
   "execution_count": 62,
   "id": "3ab3c89d",
   "metadata": {},
   "outputs": [
    {
     "data": {
      "text/plain": [
       "array([[1, 4],\n",
       "       [2, 5],\n",
       "       [3, 6]])"
      ]
     },
     "execution_count": 62,
     "metadata": {},
     "output_type": "execute_result"
    }
   ],
   "source": [
    "a2.T"
   ]
  },
  {
   "cell_type": "code",
   "execution_count": 63,
   "id": "78d4556e",
   "metadata": {},
   "outputs": [
    {
     "data": {
      "text/plain": [
       "array([[[1],\n",
       "        [4],\n",
       "        [7]],\n",
       "\n",
       "       [[2],\n",
       "        [5],\n",
       "        [8]],\n",
       "\n",
       "       [[3],\n",
       "        [6],\n",
       "        [9]]])"
      ]
     },
     "execution_count": 63,
     "metadata": {},
     "output_type": "execute_result"
    }
   ],
   "source": [
    "a3.T"
   ]
  },
  {
   "cell_type": "code",
   "execution_count": 64,
   "id": "a2e0ba4a",
   "metadata": {},
   "outputs": [
    {
     "data": {
      "text/plain": [
       "array([[[0.        , 0.30103   , 0.47712125],\n",
       "        [0.60205999, 0.69897   , 0.77815125],\n",
       "        [0.84509804, 0.90308999, 0.95424251]]])"
      ]
     },
     "execution_count": 64,
     "metadata": {},
     "output_type": "execute_result"
    }
   ],
   "source": [
    "np.log10(a3)"
   ]
  },
  {
   "cell_type": "code",
   "execution_count": 65,
   "id": "77168c56",
   "metadata": {},
   "outputs": [
    {
     "data": {
      "text/plain": [
       "array([0, 1, 2, 3, 4, 5, 6, 7, 8, 9])"
      ]
     },
     "execution_count": 65,
     "metadata": {},
     "output_type": "execute_result"
    }
   ],
   "source": [
    "np.arange(10)"
   ]
  },
  {
   "cell_type": "code",
   "execution_count": 66,
   "id": "51c80de0",
   "metadata": {},
   "outputs": [
    {
     "data": {
      "text/plain": [
       "array([2.        , 2.02040816, 2.04081633, 2.06122449, 2.08163265,\n",
       "       2.10204082, 2.12244898, 2.14285714, 2.16326531, 2.18367347,\n",
       "       2.20408163, 2.2244898 , 2.24489796, 2.26530612, 2.28571429,\n",
       "       2.30612245, 2.32653061, 2.34693878, 2.36734694, 2.3877551 ,\n",
       "       2.40816327, 2.42857143, 2.44897959, 2.46938776, 2.48979592,\n",
       "       2.51020408, 2.53061224, 2.55102041, 2.57142857, 2.59183673,\n",
       "       2.6122449 , 2.63265306, 2.65306122, 2.67346939, 2.69387755,\n",
       "       2.71428571, 2.73469388, 2.75510204, 2.7755102 , 2.79591837,\n",
       "       2.81632653, 2.83673469, 2.85714286, 2.87755102, 2.89795918,\n",
       "       2.91836735, 2.93877551, 2.95918367, 2.97959184, 3.        ])"
      ]
     },
     "execution_count": 66,
     "metadata": {},
     "output_type": "execute_result"
    }
   ],
   "source": [
    "np.linspace(2,3,num=50)"
   ]
  },
  {
   "cell_type": "code",
   "execution_count": 67,
   "id": "40ca0f6d",
   "metadata": {},
   "outputs": [
    {
     "data": {
      "text/plain": [
       "array([[1., 0., 0., 0., 0.],\n",
       "       [0., 1., 0., 0., 0.],\n",
       "       [0., 0., 1., 0., 0.],\n",
       "       [0., 0., 0., 1., 0.],\n",
       "       [0., 0., 0., 0., 1.]])"
      ]
     },
     "execution_count": 67,
     "metadata": {},
     "output_type": "execute_result"
    }
   ],
   "source": [
    "np.eye(5)#identity matrix"
   ]
  },
  {
   "cell_type": "code",
   "execution_count": null,
   "id": "c1d31842",
   "metadata": {},
   "outputs": [],
   "source": []
  }
 ],
 "metadata": {
  "kernelspec": {
   "display_name": "Python 3 (ipykernel)",
   "language": "python",
   "name": "python3"
  },
  "language_info": {
   "codemirror_mode": {
    "name": "ipython",
    "version": 3
   },
   "file_extension": ".py",
   "mimetype": "text/x-python",
   "name": "python",
   "nbconvert_exporter": "python",
   "pygments_lexer": "ipython3",
   "version": "3.9.12"
  }
 },
 "nbformat": 4,
 "nbformat_minor": 5
}
