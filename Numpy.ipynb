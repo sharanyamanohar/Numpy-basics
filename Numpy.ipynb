{
 "cells": [
  {
   "cell_type": "markdown",
   "id": "2329615d",
   "metadata": {},
   "source": [
    "# Numpy-All basic operation"
   ]
  },
  {
   "cell_type": "code",
   "execution_count": null,
   "id": "2972ca93",
   "metadata": {},
   "outputs": [],
   "source": [
    "import numpy as np\n",
    "import array"
   ]
  },
  {
   "cell_type": "code",
   "execution_count": 4,
   "id": "cd648a38",
   "metadata": {},
   "outputs": [
    {
     "data": {
      "text/plain": [
       "array([1, 2, 3, 4])"
      ]
     },
     "execution_count": 4,
     "metadata": {},
     "output_type": "execute_result"
    }
   ],
   "source": [
    "a=np.array([1,2,3,4])#preparing an array with int format only\n",
    "a"
   ]
  },
  {
   "cell_type": "code",
   "execution_count": 6,
   "id": "436760b2",
   "metadata": {},
   "outputs": [
    {
     "data": {
      "text/plain": [
       "dtype('int32')"
      ]
     },
     "execution_count": 6,
     "metadata": {},
     "output_type": "execute_result"
    }
   ],
   "source": [
    "a.dtype"
   ]
  },
  {
   "cell_type": "code",
   "execution_count": 9,
   "id": "67bf29ea",
   "metadata": {},
   "outputs": [
    {
     "data": {
      "text/plain": [
       "array(['1', '2', '3', 'sara', 'sudh', '(4+8j)'], dtype='<U64')"
      ]
     },
     "execution_count": 9,
     "metadata": {},
     "output_type": "execute_result"
    }
   ],
   "source": [
    "b=np.array([1,2,3,'sara','sudh',4+8j])#in this array creation we have add string,complex number so the data type is changed\n",
    "b"
   ]
  },
  {
   "cell_type": "code",
   "execution_count": 10,
   "id": "acb04f52",
   "metadata": {},
   "outputs": [
    {
     "data": {
      "text/plain": [
       "dtype('<U64')"
      ]
     },
     "execution_count": 10,
     "metadata": {},
     "output_type": "execute_result"
    }
   ],
   "source": [
    "b.dtype"
   ]
  },
  {
   "cell_type": "code",
   "execution_count": 11,
   "id": "ffcf9e30",
   "metadata": {},
   "outputs": [
    {
     "data": {
      "text/plain": [
       "array([[1, 2, 3],\n",
       "       [1, 4, 6],\n",
       "       [4, 5, 6]])"
      ]
     },
     "execution_count": 11,
     "metadata": {},
     "output_type": "execute_result"
    }
   ],
   "source": [
    "#2d array\n",
    "np.array([\n",
    "    \n",
    "    [1,2,3],\n",
    "    [1,4,6],\n",
    "    [4,5,6]\n",
    "    \n",
    "       ])"
   ]
  },
  {
   "cell_type": "code",
   "execution_count": 13,
   "id": "c99e52ba",
   "metadata": {},
   "outputs": [
    {
     "data": {
      "text/plain": [
       "array([[[  1,   2,   2],\n",
       "        [  4,   5,   6]],\n",
       "\n",
       "       [[  2,   3,   4],\n",
       "        [445,  67,   8]]])"
      ]
     },
     "execution_count": 13,
     "metadata": {},
     "output_type": "execute_result"
    }
   ],
   "source": [
    "#3d array\n",
    "np.array([[[1,2,2],[4,5,6]],[[2,3,4],[445,67,8]]])"
   ]
  },
  {
   "cell_type": "code",
   "execution_count": 32,
   "id": "e26a323f",
   "metadata": {},
   "outputs": [],
   "source": [
    "#4d array\n",
    "arr4=np.array([[[[1,2,3],\n",
    "            [2,43,5]],\n",
    "        \n",
    "           [[3,4,5],\n",
    "           [3,5,6]],\n",
    "           \n",
    "           [[5,6,7],\n",
    "           [2,3,5]],\n",
    "           \n",
    "           [[2,3,4],\n",
    "           [3,5,5]]]])"
   ]
  },
  {
   "cell_type": "code",
   "execution_count": 33,
   "id": "d3cfac32",
   "metadata": {},
   "outputs": [
    {
     "data": {
      "text/plain": [
       "4"
      ]
     },
     "execution_count": 33,
     "metadata": {},
     "output_type": "execute_result"
    }
   ],
   "source": [
    "arr4.ndim"
   ]
  },
  {
   "cell_type": "code",
   "execution_count": 16,
   "id": "c2a41f4b",
   "metadata": {},
   "outputs": [
    {
     "data": {
      "text/plain": [
       "array([[[1, 2, 3]]])"
      ]
     },
     "execution_count": 16,
     "metadata": {},
     "output_type": "execute_result"
    }
   ],
   "source": [
    "#changing 1d array to 3d array\n",
    "np.array([1,2,3],ndmin=3)"
   ]
  },
  {
   "cell_type": "code",
   "execution_count": 17,
   "id": "d33cd5d5",
   "metadata": {},
   "outputs": [
    {
     "data": {
      "text/plain": [
       "array([1.+0.j, 2.+0.j, 3.+0.j])"
      ]
     },
     "execution_count": 17,
     "metadata": {},
     "output_type": "execute_result"
    }
   ],
   "source": [
    "#changing data type\n",
    "np.array([1,2,3],dtype=complex)"
   ]
  },
  {
   "cell_type": "code",
   "execution_count": 18,
   "id": "45e5681b",
   "metadata": {},
   "outputs": [
    {
     "data": {
      "text/plain": [
       "2"
      ]
     },
     "execution_count": 18,
     "metadata": {},
     "output_type": "execute_result"
    }
   ],
   "source": [
    "#accessing rows and columns from array\n",
    "arr=np.array([[1,2],[3,4]])\n",
    "arr[0][1]"
   ]
  },
  {
   "cell_type": "code",
   "execution_count": 19,
   "id": "6a133b8f",
   "metadata": {},
   "outputs": [
    {
     "data": {
      "text/plain": [
       "matrix([[1, 2],\n",
       "        [3, 4]])"
      ]
     },
     "execution_count": 19,
     "metadata": {},
     "output_type": "execute_result"
    }
   ],
   "source": [
    "#changing the array into matrix\n",
    "np.matrix(arr)"
   ]
  },
  {
   "cell_type": "code",
   "execution_count": 20,
   "id": "d64ce831",
   "metadata": {},
   "outputs": [
    {
     "data": {
      "text/plain": [
       "array([1, 2, 3, 4])"
      ]
     },
     "execution_count": 20,
     "metadata": {},
     "output_type": "execute_result"
    }
   ],
   "source": [
    "l=[1,2,3,4]\n",
    "#changing the list into array\n",
    "np.array(l)"
   ]
  },
  {
   "cell_type": "code",
   "execution_count": 22,
   "id": "dc04ba60",
   "metadata": {},
   "outputs": [
    {
     "data": {
      "text/plain": [
       "array([[  1, 345],\n",
       "       [  7,   8]])"
      ]
     },
     "execution_count": 22,
     "metadata": {},
     "output_type": "execute_result"
    }
   ],
   "source": [
    "#array are mutable-so changing the values with the rows and columns\n",
    "arr=np.array([[1,2],[7,8]])\n",
    "arr[0][1]=345\n",
    "arr"
   ]
  },
  {
   "cell_type": "code",
   "execution_count": 24,
   "id": "242a842d",
   "metadata": {},
   "outputs": [
    {
     "data": {
      "text/plain": [
       "array([[  1, 345],\n",
       "       [  7,   8]])"
      ]
     },
     "execution_count": 24,
     "metadata": {},
     "output_type": "execute_result"
    }
   ],
   "source": [
    "#slicing also done it\n",
    "arr[0:100]"
   ]
  },
  {
   "cell_type": "code",
   "execution_count": 26,
   "id": "e8620c11",
   "metadata": {},
   "outputs": [
    {
     "name": "stdout",
     "output_type": "stream",
     "text": [
      "[  1 345]\n",
      "[7 8]\n"
     ]
    }
   ],
   "source": [
    "#even for loop is accepted in array\n",
    "for i in arr:\n",
    "    print(i)"
   ]
  },
  {
   "cell_type": "code",
   "execution_count": 27,
   "id": "3ea8ccfe",
   "metadata": {},
   "outputs": [
    {
     "data": {
      "text/plain": [
       "array([[ True, False, False],\n",
       "       [False,  True, False],\n",
       "       [False, False,  True]])"
      ]
     },
     "execution_count": 27,
     "metadata": {},
     "output_type": "execute_result"
    }
   ],
   "source": [
    "#fromfunction-by logic we have mentioned-create ndarray\n",
    "np.fromfunction(lambda i,j :i==j,(3,3))#identity array is created with the logic we have provided"
   ]
  },
  {
   "cell_type": "code",
   "execution_count": 28,
   "id": "38d6aef7",
   "metadata": {},
   "outputs": [
    {
     "data": {
      "text/plain": [
       "array([0, 1, 2, 3, 4])"
      ]
     },
     "execution_count": 28,
     "metadata": {},
     "output_type": "execute_result"
    }
   ],
   "source": [
    "#fromiter function-create ndarray\n",
    "np.fromiter(range(5),dtype=int)"
   ]
  },
  {
   "cell_type": "code",
   "execution_count": 29,
   "id": "681373cd",
   "metadata": {},
   "outputs": [
    {
     "data": {
      "text/plain": [
       "array([1, 2, 3, 4])"
      ]
     },
     "execution_count": 29,
     "metadata": {},
     "output_type": "execute_result"
    }
   ],
   "source": [
    "#fromstring function-create ndarray\n",
    "np.fromstring('1,2,3,4' , sep=',' , dtype=int)"
   ]
  },
  {
   "cell_type": "code",
   "execution_count": 36,
   "id": "07127a75",
   "metadata": {},
   "outputs": [
    {
     "data": {
      "text/plain": [
       "array([1. , 1.5, 2. , 2.5, 3. , 3.5, 4. , 4.5, 5. , 5.5, 6. , 6.5, 7. ,\n",
       "       7.5, 8. , 8.5, 9. , 9.5])"
      ]
     },
     "execution_count": 36,
     "metadata": {},
     "output_type": "execute_result"
    }
   ],
   "source": [
    "#creating a ndarray with arange\n",
    "np.arange(1,10,0.5)#(start values, end values,jump values)"
   ]
  },
  {
   "cell_type": "code",
   "execution_count": 37,
   "id": "f81c975a",
   "metadata": {},
   "outputs": [
    {
     "data": {
      "text/plain": [
       "array([1.  , 1.25, 1.5 , 1.75, 2.  ])"
      ]
     },
     "execution_count": 37,
     "metadata": {},
     "output_type": "execute_result"
    }
   ],
   "source": [
    "# creating nd array with linspace\n",
    "np.linspace(1,2,5)#it will be diveded into 5 parts equally between 1 and 2"
   ]
  },
  {
   "cell_type": "code",
   "execution_count": 38,
   "id": "259033b1",
   "metadata": {},
   "outputs": [
    {
     "data": {
      "text/plain": [
       "array([0., 0., 0., 0., 0.])"
      ]
     },
     "execution_count": 38,
     "metadata": {},
     "output_type": "execute_result"
    }
   ],
   "source": [
    "#creating ndarray with zeros\n",
    "np.zeros(5)"
   ]
  },
  {
   "cell_type": "code",
   "execution_count": 39,
   "id": "b2a11fe8",
   "metadata": {},
   "outputs": [
    {
     "data": {
      "text/plain": [
       "array([[[0., 0., 0., 0.],\n",
       "        [0., 0., 0., 0.],\n",
       "        [0., 0., 0., 0.],\n",
       "        [0., 0., 0., 0.],\n",
       "        [0., 0., 0., 0.]],\n",
       "\n",
       "       [[0., 0., 0., 0.],\n",
       "        [0., 0., 0., 0.],\n",
       "        [0., 0., 0., 0.],\n",
       "        [0., 0., 0., 0.],\n",
       "        [0., 0., 0., 0.]]])"
      ]
     },
     "execution_count": 39,
     "metadata": {},
     "output_type": "execute_result"
    }
   ],
   "source": [
    "np.zeros((2,5,4)) #we have shape has 5 cross 4 matrix with 2 data"
   ]
  },
  {
   "cell_type": "code",
   "execution_count": 41,
   "id": "8faf261c",
   "metadata": {},
   "outputs": [
    {
     "data": {
      "text/plain": [
       "array([1., 1., 1., 1.])"
      ]
     },
     "execution_count": 41,
     "metadata": {},
     "output_type": "execute_result"
    }
   ],
   "source": [
    "#creating ndarray with ones\n",
    "np.ones(4)"
   ]
  },
  {
   "cell_type": "code",
   "execution_count": 42,
   "id": "b3cf61bb",
   "metadata": {},
   "outputs": [
    {
     "data": {
      "text/plain": [
       "array([[1., 0., 0.],\n",
       "       [0., 1., 0.],\n",
       "       [0., 0., 1.]])"
      ]
     },
     "execution_count": 42,
     "metadata": {},
     "output_type": "execute_result"
    }
   ],
   "source": [
    "#identinty matrix \n",
    "np.eye(3)"
   ]
  },
  {
   "cell_type": "code",
   "execution_count": 43,
   "id": "f178dc90",
   "metadata": {},
   "outputs": [
    {
     "data": {
      "text/plain": [
       "array([   100.        ,    237.13737057,    562.34132519,   1333.52143216,\n",
       "         3162.27766017,   7498.94209332,  17782.79410039,  42169.65034286,\n",
       "       100000.        ])"
      ]
     },
     "execution_count": 43,
     "metadata": {},
     "output_type": "execute_result"
    }
   ],
   "source": [
    "#logspace-giving all the data in logscale\n",
    "np.logspace(2,5,9)"
   ]
  },
  {
   "cell_type": "code",
   "execution_count": 44,
   "id": "8385037a",
   "metadata": {},
   "outputs": [
    {
     "data": {
      "text/plain": [
       "array([0.0021072 , 0.23518703, 0.45419479])"
      ]
     },
     "execution_count": 44,
     "metadata": {},
     "output_type": "execute_result"
    }
   ],
   "source": [
    "#random\n",
    "np.random.rand(3)#at every execution will be getting all the different random values\n",
    "#rand- its like normal distribution from 0 to 1"
   ]
  },
  {
   "cell_type": "code",
   "execution_count": 49,
   "id": "9f6b7d94",
   "metadata": {},
   "outputs": [
    {
     "data": {
      "text/plain": [
       "array([-0.63289144, -0.49799714, -0.05705522,  0.67765418,  0.3618386 ,\n",
       "        0.29023591, -0.17279159, -0.93991205, -0.14659354, -0.82269476])"
      ]
     },
     "execution_count": 49,
     "metadata": {},
     "output_type": "execute_result"
    }
   ],
   "source": [
    "np.random.randn(10)#rand-it is like a standard normal distribution gives a value from -1 to 1"
   ]
  },
  {
   "cell_type": "code",
   "execution_count": 53,
   "id": "941e38f2",
   "metadata": {},
   "outputs": [
    {
     "data": {
      "text/plain": [
       "array([[5, 8, 9, 7],\n",
       "       [5, 5, 5, 2],\n",
       "       [7, 7, 8, 2],\n",
       "       [2, 6, 9, 5]])"
      ]
     },
     "execution_count": 53,
     "metadata": {},
     "output_type": "execute_result"
    }
   ],
   "source": [
    "np.random.randint(2,10,(4,4))#with the help of randint convert into matrix"
   ]
  },
  {
   "cell_type": "code",
   "execution_count": 57,
   "id": "a514863d",
   "metadata": {},
   "outputs": [
    {
     "data": {
      "text/plain": [
       "1"
      ]
     },
     "execution_count": 57,
     "metadata": {},
     "output_type": "execute_result"
    }
   ],
   "source": [
    "#find min values from array\n",
    "arr=np.array([\n",
    "    \n",
    "    [1,2,3],\n",
    "    [1,4,6],\n",
    "    [4,5,6]\n",
    "    \n",
    "       ])\n",
    "\n",
    "arr.min()"
   ]
  },
  {
   "cell_type": "code",
   "execution_count": 58,
   "id": "3437ea2f",
   "metadata": {},
   "outputs": [
    {
     "data": {
      "text/plain": [
       "6"
      ]
     },
     "execution_count": 58,
     "metadata": {},
     "output_type": "execute_result"
    }
   ],
   "source": [
    "#find max values from array\n",
    "arr.max()"
   ]
  },
  {
   "cell_type": "code",
   "execution_count": 4,
   "id": "fcf2299e",
   "metadata": {},
   "outputs": [
    {
     "data": {
      "text/plain": [
       "array([[69,  7],\n",
       "       [63, 49],\n",
       "       [81, 37],\n",
       "       [56, 49],\n",
       "       [45, 75]])"
      ]
     },
     "execution_count": 4,
     "metadata": {},
     "output_type": "execute_result"
    }
   ],
   "source": [
    "#Extraction rows and columns as per need,lets take example and solve it\n",
    "arr=np.random.randint(4,100,(5,5))\n",
    "#arr[3:,3:]\n",
    "arr[:,1:3]"
   ]
  },
  {
   "cell_type": "code",
   "execution_count": 5,
   "id": "8cbced9c",
   "metadata": {},
   "outputs": [
    {
     "data": {
      "text/plain": [
       "array([[69,  7],\n",
       "       [63, 49],\n",
       "       [81, 37]])"
      ]
     },
     "execution_count": 5,
     "metadata": {},
     "output_type": "execute_result"
    }
   ],
   "source": [
    "arr[:3,1:3]"
   ]
  },
  {
   "cell_type": "code",
   "execution_count": null,
   "id": "942ebb4f",
   "metadata": {},
   "outputs": [],
   "source": [
    "#can do basic operation with matrix addition,matrix multiplication,scalar multiplication,etc"
   ]
  },
  {
   "cell_type": "code",
   "execution_count": 8,
   "id": "15246599",
   "metadata": {},
   "outputs": [
    {
     "ename": "ValueError",
     "evalue": "operands could not be broadcast together with shapes (2,5) (3,) ",
     "output_type": "error",
     "traceback": [
      "\u001b[1;31m---------------------------------------------------------------------------\u001b[0m",
      "\u001b[1;31mValueError\u001b[0m                                Traceback (most recent call last)",
      "\u001b[1;32m~\\AppData\\Local\\Temp/ipykernel_16784/2925667989.py\u001b[0m in \u001b[0;36m<module>\u001b[1;34m\u001b[0m\n\u001b[0;32m      2\u001b[0m \u001b[0marr\u001b[0m\u001b[1;33m=\u001b[0m\u001b[0mnp\u001b[0m\u001b[1;33m.\u001b[0m\u001b[0mzeros\u001b[0m\u001b[1;33m(\u001b[0m\u001b[1;33m(\u001b[0m\u001b[1;36m2\u001b[0m\u001b[1;33m,\u001b[0m\u001b[1;36m5\u001b[0m\u001b[1;33m)\u001b[0m\u001b[1;33m)\u001b[0m\u001b[1;33m\u001b[0m\u001b[1;33m\u001b[0m\u001b[0m\n\u001b[0;32m      3\u001b[0m \u001b[0ma\u001b[0m\u001b[1;33m=\u001b[0m\u001b[0mnp\u001b[0m\u001b[1;33m.\u001b[0m\u001b[0marray\u001b[0m\u001b[1;33m(\u001b[0m\u001b[1;33m[\u001b[0m\u001b[1;36m1\u001b[0m\u001b[1;33m,\u001b[0m\u001b[1;36m2\u001b[0m\u001b[1;33m,\u001b[0m\u001b[1;36m3\u001b[0m\u001b[1;33m]\u001b[0m\u001b[1;33m)\u001b[0m\u001b[1;33m\u001b[0m\u001b[1;33m\u001b[0m\u001b[0m\n\u001b[1;32m----> 4\u001b[1;33m \u001b[0marr\u001b[0m\u001b[1;33m+\u001b[0m\u001b[0ma\u001b[0m\u001b[1;33m\u001b[0m\u001b[1;33m\u001b[0m\u001b[0m\n\u001b[0m",
      "\u001b[1;31mValueError\u001b[0m: operands could not be broadcast together with shapes (2,5) (3,) "
     ]
    }
   ],
   "source": [
    "#can't add or substract with different shape,lets see example\n",
    "arr=np.zeros((2,5))\n",
    "a=np.array([1,2,3])\n",
    "arr+a"
   ]
  },
  {
   "cell_type": "code",
   "execution_count": 10,
   "id": "2d057ba8",
   "metadata": {},
   "outputs": [
    {
     "data": {
      "text/plain": [
       "array([[1],\n",
       "       [2],\n",
       "       [3]])"
      ]
     },
     "execution_count": 10,
     "metadata": {},
     "output_type": "execute_result"
    }
   ],
   "source": [
    "#Transpose\n",
    "t=np.array([[1,2,3]])\n",
    "t.T"
   ]
  },
  {
   "cell_type": "code",
   "execution_count": 19,
   "id": "ab781db5",
   "metadata": {},
   "outputs": [
    {
     "data": {
      "text/plain": [
       "array([[0.85386127, 0.12237667, 0.57526417, 0.82029717],\n",
       "       [0.89001385, 0.85085412, 0.75257829, 0.58491533],\n",
       "       [0.96867823, 0.85759118, 0.69218048, 0.46295512],\n",
       "       [0.93209852, 0.99610096, 0.82000764, 0.95399298],\n",
       "       [0.83774856, 0.81388152, 0.61887871, 0.84125554]])"
      ]
     },
     "execution_count": 19,
     "metadata": {},
     "output_type": "execute_result"
    }
   ],
   "source": [
    "#find the square root \n",
    "arr=np.random.rand(5,4)\n",
    "np.sqrt(arr)"
   ]
  },
  {
   "cell_type": "code",
   "execution_count": 20,
   "id": "25965e6c",
   "metadata": {},
   "outputs": [
    {
     "data": {
      "text/plain": [
       "array([[-0.13722537, -1.82460275, -0.48026534, -0.17205757],\n",
       "       [-0.10120647, -0.14028979, -0.24689662, -0.46581399],\n",
       "       [-0.02764092, -0.13343939, -0.3195613 , -0.66892221],\n",
       "       [-0.06107636, -0.00339328, -0.1723642 , -0.04090964],\n",
       "       [-0.15377262, -0.17887763, -0.41678891, -0.15014413]])"
      ]
     },
     "execution_count": 20,
     "metadata": {},
     "output_type": "execute_result"
    }
   ],
   "source": [
    "#logarthmic values\n",
    "np.log10(arr)"
   ]
  },
  {
   "cell_type": "code",
   "execution_count": 21,
   "id": "20e54666",
   "metadata": {},
   "outputs": [
    {
     "data": {
      "text/plain": [
       "array([[2.07317048, 1.01508875, 1.39226076, 1.95988825],\n",
       "       [2.20808287, 2.0625699 , 1.76186708, 1.40793761],\n",
       "       [2.55572901, 2.08644704, 1.6146429 , 1.2390283 ],\n",
       "       [2.38406653, 2.69720788, 1.95895768, 2.48457747],\n",
       "       [2.01742641, 1.93944748, 1.46669395, 2.02934054]])"
      ]
     },
     "execution_count": 21,
     "metadata": {},
     "output_type": "execute_result"
    }
   ],
   "source": [
    "#exponential values\n",
    "np.exp(arr)"
   ]
  },
  {
   "cell_type": "code",
   "execution_count": 22,
   "id": "aab66e00",
   "metadata": {},
   "outputs": [
    {
     "data": {
      "text/plain": [
       "array([[0.77770241, 0.23754122, 0.82427853, 0.9657492 ],\n",
       "       [0.97260111, 0.45344925, 0.60904246, 0.77552651]])"
      ]
     },
     "execution_count": 22,
     "metadata": {},
     "output_type": "execute_result"
    }
   ],
   "source": [
    "#by using random function you  and me will get same values\n",
    "np.random.seed(13)\n",
    "np.random.rand(2,4)"
   ]
  }
 ],
 "metadata": {
  "kernelspec": {
   "display_name": "Python 3 (ipykernel)",
   "language": "python",
   "name": "python3"
  },
  "language_info": {
   "codemirror_mode": {
    "name": "ipython",
    "version": 3
   },
   "file_extension": ".py",
   "mimetype": "text/x-python",
   "name": "python",
   "nbconvert_exporter": "python",
   "pygments_lexer": "ipython3",
   "version": "3.9.7"
  }
 },
 "nbformat": 4,
 "nbformat_minor": 5
}
